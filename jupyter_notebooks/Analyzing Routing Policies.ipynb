{
 "cells": [
  {
   "cell_type": "markdown",
   "metadata": {},
   "source": [
    "## Analyzing BGP Route Policies"
   ]
  },
  {
   "cell_type": "markdown",
   "metadata": {},
   "source": [
    "Route policies for BGP are complex and error prone.  In this notebook we show how Batfish can be used to validate that your route policies behave as intended.  Batfish's `testRoutePolicies` question provides easy exploration of route-policy behavior through testing, while its `searchRoutePolicies` question allows you to obtain guarantees about the correctness of a route policy, for *all possible* route announcements.\n",
    "\n",
    "To illustrate these capabilities, we'll use an example network with two border routers, named `border1` and `border2`, which each have a BGP session with a router of another AS.  Our goal in this notebook is to validate important properties of the in-bound and out-bound route policies for these sessions, respectively called `from_outside` and `to_outside`.\n",
    "\n",
    "Let's start, as usual, by initializing the example network that we will use in this notebook.\n",
    "\n",
    "![Analytics](https://ga-beacon.appspot.com/UA-100596389-3/open-source/pybatfish/jupyter_notebooks/validating-route-policies?pixel&useReferer)"
   ]
  },
  {
   "cell_type": "code",
   "execution_count": 1,
   "metadata": {},
   "outputs": [
    {
     "data": {
      "text/plain": [
       "'example_snapshot'"
      ]
     },
     "execution_count": 1,
     "metadata": {},
     "output_type": "execute_result"
    }
   ],
   "source": [
    "# Import packages and load questions\n",
    "%run startup.py\n",
    "load_questions()\n",
    "\n",
    "# Initialize a network and snapshot\n",
    "NETWORK_NAME = \"example_network\"\n",
    "SNAPSHOT_NAME = \"example_snapshot\"\n",
    "\n",
    "SNAPSHOT_PATH = \"networks/route-analysis\"\n",
    "\n",
    "bf_set_network(NETWORK_NAME)\n",
    "bf_init_snapshot(SNAPSHOT_PATH, name=SNAPSHOT_NAME, overwrite=True)"
   ]
  },
  {
   "cell_type": "markdown",
   "metadata": {},
   "source": [
    "### Example 1: Filter private addresses in-bound\n"
   ]
  },
  {
   "cell_type": "markdown",
   "metadata": {},
   "source": [
    "First, we'd like to ensure that the two `from_outside` route policies properly filter announcements for private addresses.  Traditionally you might validate this policy through some form of in-network testing.  With Batfish's `testRoutePolicies` question we can test a route policy's behavior without access to the live network."
   ]
  },
  {
   "cell_type": "code",
   "execution_count": 2,
   "metadata": {},
   "outputs": [
    {
     "data": {
      "text/html": [
       "<div>\n",
       "<style scoped>\n",
       "    .dataframe tbody tr th:only-of-type {\n",
       "        vertical-align: middle;\n",
       "    }\n",
       "\n",
       "    .dataframe tbody tr th {\n",
       "        vertical-align: top;\n",
       "    }\n",
       "\n",
       "    .dataframe thead th {\n",
       "        text-align: right;\n",
       "    }\n",
       "</style>\n",
       "<table border=\"1\" class=\"dataframe tex2jax_ignore\">\n",
       "  <thead>\n",
       "    <tr style=\"text-align: right;\">\n",
       "      <th></th>\n",
       "      <th>Node</th>\n",
       "      <th>Policy_Name</th>\n",
       "      <th>Input_Route</th>\n",
       "      <th>Action</th>\n",
       "      <th>Output_Route</th>\n",
       "      <th>Difference</th>\n",
       "    </tr>\n",
       "  </thead>\n",
       "  <tbody>\n",
       "    <tr>\n",
       "      <th>0</th>\n",
       "      <td>border1</td>\n",
       "      <td>from_outside</td>\n",
       "      <td>BgpRoute(network='10.0.0.0/24', originatorIp='0.0.0.0', originType='egp', protocol='bgp', asPath=[], communities=[], localPreference=0, metric=0, sourceProtocol=None)</td>\n",
       "      <td>DENY</td>\n",
       "      <td>None</td>\n",
       "      <td>None</td>\n",
       "    </tr>\n",
       "    <tr>\n",
       "      <th>1</th>\n",
       "      <td>border2</td>\n",
       "      <td>from_outside</td>\n",
       "      <td>BgpRoute(network='10.0.0.0/24', originatorIp='0.0.0.0', originType='egp', protocol='bgp', asPath=[], communities=[], localPreference=0, metric=0, sourceProtocol=None)</td>\n",
       "      <td>DENY</td>\n",
       "      <td>None</td>\n",
       "      <td>None</td>\n",
       "    </tr>\n",
       "  </tbody>\n",
       "</table>\n",
       "</div>"
      ],
      "text/plain": [
       "      Node   Policy_Name  \\\n",
       "0  border1  from_outside   \n",
       "1  border2  from_outside   \n",
       "\n",
       "                                                                                                                                                              Input_Route  \\\n",
       "0  BgpRoute(network='10.0.0.0/24', originatorIp='0.0.0.0', originType='egp', protocol='bgp', asPath=[], communities=[], localPreference=0, metric=0, sourceProtocol=None)   \n",
       "1  BgpRoute(network='10.0.0.0/24', originatorIp='0.0.0.0', originType='egp', protocol='bgp', asPath=[], communities=[], localPreference=0, metric=0, sourceProtocol=None)   \n",
       "\n",
       "  Action Output_Route Difference  \n",
       "0  DENY   None         None       \n",
       "1  DENY   None         None       "
      ]
     },
     "execution_count": 2,
     "metadata": {},
     "output_type": "execute_result"
    }
   ],
   "source": [
    "inRoute1 = BgpRoute(network=\"10.0.0.0/24\", originatorIp=\"0.0.0.0\", originType=\"egp\", protocol=\"bgp\")\n",
    "bfq.testRoutePolicies(policies=\"from_outside\", direction=\"in\", inputRoutes=[inRoute1]).answer().frame()"
   ]
  },
  {
   "cell_type": "markdown",
   "metadata": {},
   "source": [
    "The first line of code above creates a `BgpRoute` object that specifies the input route announcement to use for testing, which in this case announces the prefix 10.0.0.0/24 and will have default values for other parts of the announcement.  The second line uses `testRoutePolicies` to test the behavior of the two `from_outside` route policies on this announcement.  The required `direction` parameter indicates that we are interested in testing in-bound route policies.\n",
    "\n",
    "The output of the question shows the results of the test.  In both border routers, the `from_outside` route policy properly denies this private address."
   ]
  },
  {
   "cell_type": "markdown",
   "metadata": {},
   "source": [
    "That result gives us some confidence in our route policies, but it is just a single test.  Of course we can run `testRoutePolicies` more times to test other private addresses.  However, we'd really like to know that *all* private addresses will be denied by the two in-bound route maps.  To do that, we will use the `searchRoutePolicies` question and change our perspective a bit.  Instead of providing a *single* test announcement and checking that it behaves as intended, we will specify a *set of announcements* of interest and ask `searchRoutePolicies` to find one that violates our policy.  If we get one or more results, then our configuration is buggy.  If we get no results, then we can be sure that our configurations satisfy the policy, for all route announcements in the set."
   ]
  },
  {
   "cell_type": "code",
   "execution_count": 3,
   "metadata": {
    "scrolled": true
   },
   "outputs": [
    {
     "data": {
      "text/html": [
       "<div>\n",
       "<style scoped>\n",
       "    .dataframe tbody tr th:only-of-type {\n",
       "        vertical-align: middle;\n",
       "    }\n",
       "\n",
       "    .dataframe tbody tr th {\n",
       "        vertical-align: top;\n",
       "    }\n",
       "\n",
       "    .dataframe thead th {\n",
       "        text-align: right;\n",
       "    }\n",
       "</style>\n",
       "<table border=\"1\" class=\"dataframe tex2jax_ignore\">\n",
       "  <thead>\n",
       "    <tr style=\"text-align: right;\">\n",
       "      <th></th>\n",
       "      <th>Node</th>\n",
       "      <th>Policy_Name</th>\n",
       "      <th>Input_Route</th>\n",
       "      <th>Action</th>\n",
       "      <th>Output_Route</th>\n",
       "    </tr>\n",
       "  </thead>\n",
       "  <tbody>\n",
       "    <tr>\n",
       "      <th>0</th>\n",
       "      <td>border2</td>\n",
       "      <td>from_outside</td>\n",
       "      <td>BgpRoute(network='192.168.0.0/24', originatorIp='0.0.0.0', originType='igp', protocol='bgp', asPath=[], communities=[], localPreference=0, metric=0, sourceProtocol=None)</td>\n",
       "      <td>PERMIT</td>\n",
       "      <td>BgpRoute(network='192.168.0.0/24', originatorIp='0.0.0.0', originType='igp', protocol='bgp', asPath=[], communities=['2:30'], localPreference=0, metric=0, sourceProtocol=None)</td>\n",
       "    </tr>\n",
       "  </tbody>\n",
       "</table>\n",
       "</div>"
      ],
      "text/plain": [
       "      Node   Policy_Name  \\\n",
       "0  border2  from_outside   \n",
       "\n",
       "                                                                                                                                                                 Input_Route  \\\n",
       "0  BgpRoute(network='192.168.0.0/24', originatorIp='0.0.0.0', originType='igp', protocol='bgp', asPath=[], communities=[], localPreference=0, metric=0, sourceProtocol=None)   \n",
       "\n",
       "   Action  \\\n",
       "0  PERMIT   \n",
       "\n",
       "                                                                                                                                                                      Output_Route  \n",
       "0  BgpRoute(network='192.168.0.0/24', originatorIp='0.0.0.0', originType='igp', protocol='bgp', asPath=[], communities=['2:30'], localPreference=0, metric=0, sourceProtocol=None)  "
      ]
     },
     "execution_count": 3,
     "metadata": {},
     "output_type": "execute_result"
    }
   ],
   "source": [
    "privateIps = [\"10.0.0.0/8:8-32\", \"172.16.0.0/28:28-32\", \"192.168.0.0/16:16-32\"]\n",
    "inRoutes1 = BgpRouteConstraints(prefix=privateIps)\n",
    "bfq.searchRoutePolicies(policies=\"from_outside\", inputConstraints=inRoutes1, action=\"permit\").answer().frame()"
   ]
  },
  {
   "cell_type": "markdown",
   "metadata": {},
   "source": [
    "The first line above specifies the space of all private IP prefixes.  The second line creates a `BgpRouteConstraints` object, which is like the `BgpRoute` object we saw above but represents a set of announcements rather than a single one.  In this case, we are interested in all announcements that announce a prefix in `privateIps`.  Finally, the third line of code uses `searchRoutePolicies` to search for an announcement in the set `inRoutes` that is permitted by the `from_outside` route policy.\n",
    "\n",
    "There are no results for `border1` which means that its `from_outside` route policy properly filters *all* private addresses. However, the result for `border2` shows that its version of `from_outside` permits an announcement for the prefix 192.168.0.0/32.  Inspecting the configurations, we see that both route policies deny all announcements for prefixes in the prefix list `private-ips`, but the definitions of this prefix list differ in one line:\n",
    "\n",
    "```\n",
    "border1: ip prefix-list private-ips seq 15 permit 192.168.0.0/16 ge 16\n",
    "border2: ip prefix-list private-ips seq 15 permit 192.168.0.0/16\n",
    "```\n",
    "\n",
    "The definition in `border2`'s config has accidentally omitted the `ge 16` clause and so only applies to /16 addresses."
   ]
  },
  {
   "cell_type": "markdown",
   "metadata": {},
   "source": [
    "### Example 2: Announce your own addresses out-bound\n"
   ]
  },
  {
   "cell_type": "markdown",
   "metadata": {},
   "source": [
    "The out-bound route policies of our border routers, named `to_outside`, should allow all addresses that our network owns to be advertised.  These are addresses in the ranges 1.2.3.0/24:24-32 and 1.2.4.0/24:24-32.  We can use `searchRoutePolicies` to validate this property in the same way we did above, by asking it to find a violation of the property.  Specifically, we ask:  *Is there an announcement for an address that we own that is denied by `to_outside`?*"
   ]
  },
  {
   "cell_type": "code",
   "execution_count": 4,
   "metadata": {
    "scrolled": true
   },
   "outputs": [
    {
     "data": {
      "text/html": [
       "<div>\n",
       "<style scoped>\n",
       "    .dataframe tbody tr th:only-of-type {\n",
       "        vertical-align: middle;\n",
       "    }\n",
       "\n",
       "    .dataframe tbody tr th {\n",
       "        vertical-align: top;\n",
       "    }\n",
       "\n",
       "    .dataframe thead th {\n",
       "        text-align: right;\n",
       "    }\n",
       "</style>\n",
       "<table border=\"1\" class=\"dataframe tex2jax_ignore\">\n",
       "  <thead>\n",
       "    <tr style=\"text-align: right;\">\n",
       "      <th></th>\n",
       "      <th>Node</th>\n",
       "      <th>Policy_Name</th>\n",
       "      <th>Input_Route</th>\n",
       "      <th>Action</th>\n",
       "      <th>Output_Route</th>\n",
       "    </tr>\n",
       "  </thead>\n",
       "  <tbody>\n",
       "  </tbody>\n",
       "</table>\n",
       "</div>"
      ],
      "text/plain": [
       "Empty DataFrame\n",
       "Columns: [Node, Policy_Name, Input_Route, Action, Output_Route]\n",
       "Index: []"
      ]
     },
     "execution_count": 4,
     "metadata": {},
     "output_type": "execute_result"
    }
   ],
   "source": [
    "ownedSpace = [\"1.2.3.0/24:24-32\", \"1.2.4.0/24:24-32\"]\n",
    "inRoutes2 = BgpRouteConstraints(prefix=ownedSpace)\n",
    "bfq.searchRoutePolicies(policies=\"to_outside\", inputConstraints=inRoutes2, action=\"deny\").answer().frame()"
   ]
  },
  {
   "cell_type": "markdown",
   "metadata": {},
   "source": [
    "Since there are no results, this implies that no such announcement exists, and therefore that our policy holds, for both `border1` and `border2`.  Hurray!"
   ]
  },
  {
   "cell_type": "markdown",
   "metadata": {},
   "source": [
    "### Example 3: Announce your customers' routes out-bound"
   ]
  },
  {
   "cell_type": "markdown",
   "metadata": {},
   "source": [
    "Next we will check that the `to_outside` route policies are properly announcing our customers' routes.  These are identified by announcements that are tagged with a community that has AS number 40.  The policy should also set the MED for customer announcements to 100 when leaving from `border1` and 50 when leaving from `border2`.  \n",
    "\n",
    "First let's see how to test this property using `testRoutePolicies`."
   ]
  },
  {
   "cell_type": "code",
   "execution_count": 5,
   "metadata": {
    "scrolled": true
   },
   "outputs": [
    {
     "data": {
      "text/html": [
       "<div>\n",
       "<style scoped>\n",
       "    .dataframe tbody tr th:only-of-type {\n",
       "        vertical-align: middle;\n",
       "    }\n",
       "\n",
       "    .dataframe tbody tr th {\n",
       "        vertical-align: top;\n",
       "    }\n",
       "\n",
       "    .dataframe thead th {\n",
       "        text-align: right;\n",
       "    }\n",
       "</style>\n",
       "<table border=\"1\" class=\"dataframe tex2jax_ignore\">\n",
       "  <thead>\n",
       "    <tr style=\"text-align: right;\">\n",
       "      <th></th>\n",
       "      <th>Node</th>\n",
       "      <th>Policy_Name</th>\n",
       "      <th>Input_Route</th>\n",
       "      <th>Action</th>\n",
       "      <th>Output_Route</th>\n",
       "      <th>Difference</th>\n",
       "    </tr>\n",
       "  </thead>\n",
       "  <tbody>\n",
       "    <tr>\n",
       "      <th>0</th>\n",
       "      <td>border1</td>\n",
       "      <td>to_outside</td>\n",
       "      <td>BgpRoute(network='1.0.0.0/8', originatorIp='0.0.0.0', originType='egp', protocol='bgp', asPath=[], communities=['40:10'], localPreference=0, metric=0, sourceProtocol=None)</td>\n",
       "      <td>PERMIT</td>\n",
       "      <td>BgpRoute(network='1.0.0.0/8', originatorIp='0.0.0.0', originType='egp', protocol='bgp', asPath=[], communities=['40:10'], localPreference=0, metric=0, sourceProtocol=None)</td>\n",
       "      <td>BgpRouteDiffs(diffs=[])</td>\n",
       "    </tr>\n",
       "    <tr>\n",
       "      <th>1</th>\n",
       "      <td>border2</td>\n",
       "      <td>to_outside</td>\n",
       "      <td>BgpRoute(network='1.0.0.0/8', originatorIp='0.0.0.0', originType='egp', protocol='bgp', asPath=[], communities=['40:10'], localPreference=0, metric=0, sourceProtocol=None)</td>\n",
       "      <td>PERMIT</td>\n",
       "      <td>BgpRoute(network='1.0.0.0/8', originatorIp='0.0.0.0', originType='egp', protocol='bgp', asPath=[], communities=['40:10'], localPreference=0, metric=50, sourceProtocol=None)</td>\n",
       "      <td>BgpRouteDiffs(diffs=[BgpRouteDiff(fieldName='metric', oldValue='0', newValue='50')])</td>\n",
       "    </tr>\n",
       "  </tbody>\n",
       "</table>\n",
       "</div>"
      ],
      "text/plain": [
       "      Node Policy_Name  \\\n",
       "0  border1  to_outside   \n",
       "1  border2  to_outside   \n",
       "\n",
       "                                                                                                                                                                   Input_Route  \\\n",
       "0  BgpRoute(network='1.0.0.0/8', originatorIp='0.0.0.0', originType='egp', protocol='bgp', asPath=[], communities=['40:10'], localPreference=0, metric=0, sourceProtocol=None)   \n",
       "1  BgpRoute(network='1.0.0.0/8', originatorIp='0.0.0.0', originType='egp', protocol='bgp', asPath=[], communities=['40:10'], localPreference=0, metric=0, sourceProtocol=None)   \n",
       "\n",
       "   Action  \\\n",
       "0  PERMIT   \n",
       "1  PERMIT   \n",
       "\n",
       "                                                                                                                                                                   Output_Route  \\\n",
       "0  BgpRoute(network='1.0.0.0/8', originatorIp='0.0.0.0', originType='egp', protocol='bgp', asPath=[], communities=['40:10'], localPreference=0, metric=0, sourceProtocol=None)    \n",
       "1  BgpRoute(network='1.0.0.0/8', originatorIp='0.0.0.0', originType='egp', protocol='bgp', asPath=[], communities=['40:10'], localPreference=0, metric=50, sourceProtocol=None)   \n",
       "\n",
       "                                                                             Difference  \n",
       "0  BgpRouteDiffs(diffs=[])                                                               \n",
       "1  BgpRouteDiffs(diffs=[BgpRouteDiff(fieldName='metric', oldValue='0', newValue='50')])  "
      ]
     },
     "execution_count": 5,
     "metadata": {},
     "output_type": "execute_result"
    }
   ],
   "source": [
    "inRoute3 = BgpRoute(network=\"1.0.0.0/8\", communities=[\"40:10\"], originatorIp=\"0.0.0.0\", originType=\"egp\", protocol=\"bgp\")\n",
    "bfq.testRoutePolicies(policies=\"to_outside\", direction=\"out\", inputRoutes=[inRoute3]).answer().frame()"
   ]
  },
  {
   "cell_type": "markdown",
   "metadata": {},
   "source": [
    "We have tested the behavior of the `to_outside` route policies on a particular announcement, which advertises the network 1.0.0.0/8 and is tagged with the community 40:10.  The output shows that both routers permit the announcement, as desired.  Further, `border2` properly sets the metric to 50, as can be seen in both the Output_Route and Difference columns.  However, `border1` does not set the metric, so we've found a bug.  Inspecting the `to_outside` policy in `border1` reveals that the necessary `set metric` command was accidentally omitted."
   ]
  },
  {
   "cell_type": "markdown",
   "metadata": {},
   "source": [
    "This example shows how testing can find bugs, but it's still only a single test.  How do we know that all customer routes are permitted?  And how do we know that `border2` always sets the metric appropriately?  We can check both of these properties with `searchRoutePolicies`.  Checking the first of these is just a slight variation on what we've seen earlier."
   ]
  },
  {
   "cell_type": "code",
   "execution_count": 6,
   "metadata": {},
   "outputs": [
    {
     "data": {
      "text/html": [
       "<div>\n",
       "<style scoped>\n",
       "    .dataframe tbody tr th:only-of-type {\n",
       "        vertical-align: middle;\n",
       "    }\n",
       "\n",
       "    .dataframe tbody tr th {\n",
       "        vertical-align: top;\n",
       "    }\n",
       "\n",
       "    .dataframe thead th {\n",
       "        text-align: right;\n",
       "    }\n",
       "</style>\n",
       "<table border=\"1\" class=\"dataframe tex2jax_ignore\">\n",
       "  <thead>\n",
       "    <tr style=\"text-align: right;\">\n",
       "      <th></th>\n",
       "      <th>Node</th>\n",
       "      <th>Policy_Name</th>\n",
       "      <th>Input_Route</th>\n",
       "      <th>Action</th>\n",
       "      <th>Output_Route</th>\n",
       "    </tr>\n",
       "  </thead>\n",
       "  <tbody>\n",
       "  </tbody>\n",
       "</table>\n",
       "</div>"
      ],
      "text/plain": [
       "Empty DataFrame\n",
       "Columns: [Node, Policy_Name, Input_Route, Action, Output_Route]\n",
       "Index: []"
      ]
     },
     "execution_count": 6,
     "metadata": {},
     "output_type": "execute_result"
    }
   ],
   "source": [
    "customerCommunities = [\"40:.*\"]\n",
    "inRoutes3 = BgpRouteConstraints(communities=customerCommunities)\n",
    "bfq.searchRoutePolicies(policies=\"to_outside\", inputConstraints=inRoutes3, action=\"deny\").answer().frame()"
   ]
  },
  {
   "cell_type": "markdown",
   "metadata": {},
   "source": [
    "Instead of constraining the set of input announcements based on their prefix, we constrain them based on their communities.  In particular we require announcements to be tagged with some community matching the regular expression \"40:.*\".  We then ask `searchRoutePolicies` for announcements that are denied.  There are no answers, so we can be sure that all of our customer routes are being permitted, by both routers.  \n",
    "\n",
    "Now for the second property, that `border2` always sets the metric appropriately.  (We have already have seen that `border1` does not satisfy this property.)  To check this, we will impose constraints not only on the *input* route announcement to `to_outside`, as we have been doing so far, but also on the *output* route announcement that is produced when an announcement is permitted.  That will enable us to ask the following question:  *Is there a permitted customer route whose output announcement has a MED value other than 50?*"
   ]
  },
  {
   "cell_type": "code",
   "execution_count": 7,
   "metadata": {},
   "outputs": [
    {
     "data": {
      "text/html": [
       "<div>\n",
       "<style scoped>\n",
       "    .dataframe tbody tr th:only-of-type {\n",
       "        vertical-align: middle;\n",
       "    }\n",
       "\n",
       "    .dataframe tbody tr th {\n",
       "        vertical-align: top;\n",
       "    }\n",
       "\n",
       "    .dataframe thead th {\n",
       "        text-align: right;\n",
       "    }\n",
       "</style>\n",
       "<table border=\"1\" class=\"dataframe tex2jax_ignore\">\n",
       "  <thead>\n",
       "    <tr style=\"text-align: right;\">\n",
       "      <th></th>\n",
       "      <th>Node</th>\n",
       "      <th>Policy_Name</th>\n",
       "      <th>Input_Route</th>\n",
       "      <th>Action</th>\n",
       "      <th>Output_Route</th>\n",
       "    </tr>\n",
       "  </thead>\n",
       "  <tbody>\n",
       "  </tbody>\n",
       "</table>\n",
       "</div>"
      ],
      "text/plain": [
       "Empty DataFrame\n",
       "Columns: [Node, Policy_Name, Input_Route, Action, Output_Route]\n",
       "Index: []"
      ]
     },
     "execution_count": 7,
     "metadata": {},
     "output_type": "execute_result"
    }
   ],
   "source": [
    "wrongMed = [\"0-255\", \"!50\"]\n",
    "outRoutes3 = BgpRouteConstraints(med=wrongMed)\n",
    "bfq.searchRoutePolicies(nodes=\"border2\", policies=\"to_outside\", action=\"permit\",\n",
    "                        inputConstraints=inRoutes3, outputConstraints=outRoutes3).answer().frame()"
   ]
  },
  {
   "cell_type": "markdown",
   "metadata": {},
   "source": [
    "The `wrongMed` variable above specifies the MED values of interest:  everything in the range 0-255 except for 50.  We then constrain the output announcements to have a MED value in that set.  Because there are no results, the `to_outside` route policy of `border2` satisfies our intent:  all customer announcements are output with a MED value of 50."
   ]
  },
  {
   "cell_type": "markdown",
   "metadata": {},
   "source": [
    "### Example 4: Set communities on routes in-bound"
   ]
  },
  {
   "cell_type": "markdown",
   "metadata": {},
   "source": [
    "Finally, we want to make sure that our `from_outside` route policies tag each permitted route with the community 20:30.  We can check that property with `searchRoutePolicies` using an appropriate constraint on output announcements."
   ]
  },
  {
   "cell_type": "code",
   "execution_count": 8,
   "metadata": {},
   "outputs": [
    {
     "data": {
      "text/html": [
       "<div>\n",
       "<style scoped>\n",
       "    .dataframe tbody tr th:only-of-type {\n",
       "        vertical-align: middle;\n",
       "    }\n",
       "\n",
       "    .dataframe tbody tr th {\n",
       "        vertical-align: top;\n",
       "    }\n",
       "\n",
       "    .dataframe thead th {\n",
       "        text-align: right;\n",
       "    }\n",
       "</style>\n",
       "<table border=\"1\" class=\"dataframe tex2jax_ignore\">\n",
       "  <thead>\n",
       "    <tr style=\"text-align: right;\">\n",
       "      <th></th>\n",
       "      <th>Node</th>\n",
       "      <th>Policy_Name</th>\n",
       "      <th>Input_Route</th>\n",
       "      <th>Action</th>\n",
       "      <th>Output_Route</th>\n",
       "    </tr>\n",
       "  </thead>\n",
       "  <tbody>\n",
       "    <tr>\n",
       "      <th>0</th>\n",
       "      <td>border2</td>\n",
       "      <td>from_outside</td>\n",
       "      <td>BgpRoute(network='0.0.0.0/0', originatorIp='0.0.0.0', originType='igp', protocol='bgp', asPath=[], communities=[], localPreference=0, metric=0, sourceProtocol=None)</td>\n",
       "      <td>PERMIT</td>\n",
       "      <td>BgpRoute(network='0.0.0.0/0', originatorIp='0.0.0.0', originType='igp', protocol='bgp', asPath=[], communities=['2:30'], localPreference=0, metric=0, sourceProtocol=None)</td>\n",
       "    </tr>\n",
       "  </tbody>\n",
       "</table>\n",
       "</div>"
      ],
      "text/plain": [
       "      Node   Policy_Name  \\\n",
       "0  border2  from_outside   \n",
       "\n",
       "                                                                                                                                                            Input_Route  \\\n",
       "0  BgpRoute(network='0.0.0.0/0', originatorIp='0.0.0.0', originType='igp', protocol='bgp', asPath=[], communities=[], localPreference=0, metric=0, sourceProtocol=None)   \n",
       "\n",
       "   Action  \\\n",
       "0  PERMIT   \n",
       "\n",
       "                                                                                                                                                                 Output_Route  \n",
       "0  BgpRoute(network='0.0.0.0/0', originatorIp='0.0.0.0', originType='igp', protocol='bgp', asPath=[], communities=['2:30'], localPreference=0, metric=0, sourceProtocol=None)  "
      ]
     },
     "execution_count": 8,
     "metadata": {},
     "output_type": "execute_result"
    }
   ],
   "source": [
    "outRoutes4 = BgpRouteConstraints(communities=[\"20:30\"], complementCommunities=True)\n",
    "bfq.searchRoutePolicies(policies=\"from_outside\", action=\"permit\", outputConstraints=outRoutes4).answer().frame()"
   ]
  },
  {
   "cell_type": "markdown",
   "metadata": {},
   "source": [
    "Above we use one parameters to `searchRoutePolicies` that you haven't seen yet:  the `complementCommunities` flag indicates that we are interested in community sets that do not contain any of the communities specified by the `communities` parameter.  So in this case, we are asking whether there are any permitted routes that are not tagged with 20:30.  There are no results for `border1`'s `to_outside` policy, so it is properly tagging permitted routes.  However, Batfish reports a violation for `border2`:  its route policy tags a default route announcement with the community 2:30.  A comparison of the two configurations identifies the problem, a typo in the `set community` command:\n",
    "\n",
    "```\n",
    "border1: set community 20:30\n",
    "border2: set community 2:30\n",
    "```"
   ]
  },
  {
   "cell_type": "markdown",
   "metadata": {},
   "source": [
    "### Current Status"
   ]
  },
  {
   "cell_type": "markdown",
   "metadata": {},
   "source": [
    "The `testRoutePolicies` question supports all of the route policies that are parsed by Batfish.  The `searchRoutePolicies` question currently supports Cisco routers and the following capabilities:  matching on prefixes and communities (including community regexes); setting and deleting communities; and setting the metric and local preference.  In the near future we plan to add support for other features, notably AS filtering, as well as for Juniper routers."
   ]
  },
  {
   "cell_type": "markdown",
   "metadata": {},
   "source": [
    "### Summary"
   ]
  },
  {
   "cell_type": "markdown",
   "metadata": {},
   "source": [
    "\n",
    "In this notebook we showed you two ways to validate that your route policies meet your intent.  The `testRoutePolicies` question allows you to easily test the behavior of a route policy offline, without access to the live network.  The `searchRoutePolicies` question allows you to search for violations of intent, thereby identifying concrete errors if they exist and providing strong correctness guarantees if not."
   ]
  },
  {
   "cell_type": "markdown",
   "metadata": {},
   "source": [
    "Want to learn more? Come find us on [Slack](https://join.slack.com/t/batfish-org/shared_invite/enQtMzA0Nzg2OTAzNzQ1LTUxOTJlY2YyNTVlNGQ3MTJkOTIwZT     U2YjY3YzRjZWFiYzE4ODE5ODZiNjA4NGI5NTJhZmU2ZTllOTMwZDhjMzA) and [GitHub](https://github.com/batfish/batfish)"
   ]
  }
 ],
 "metadata": {
  "hide_input": false,
  "kernelspec": {
   "display_name": "Python 3",
   "language": "python",
   "name": "python3"
  },
  "language_info": {
   "codemirror_mode": {
    "name": "ipython",
    "version": 3
   },
   "file_extension": ".py",
   "mimetype": "text/x-python",
   "name": "python",
   "nbconvert_exporter": "python",
   "pygments_lexer": "ipython3",
   "version": "3.7.6"
  }
 },
 "nbformat": 4,
 "nbformat_minor": 2
}
