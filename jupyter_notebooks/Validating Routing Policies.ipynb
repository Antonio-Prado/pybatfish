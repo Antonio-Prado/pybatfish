{
 "cells": [
  {
   "cell_type": "markdown",
   "metadata": {},
   "source": [
    "## Validating BGP Route Policies with Batfish"
   ]
  },
  {
   "cell_type": "markdown",
   "metadata": {},
   "source": [
    "Route policies for BGP are complex and error prone.  In this notebook we show how Batfish can be used to validate that your route policies behave as intended.  Batfish's `searchRoutePolicies` question allows you to easily explore the behavior of a route policy, as well as guarantee its correctness for *all possible* route announcements that it processes.\n",
    "\n",
    "Let's start, as usual, by initializing the example network that we will use in this notebook.\n",
    "\n",
    "![Analytics](https://ga-beacon.appspot.com/UA-100596389-3/open-source/pybatfish/jupyter_notebooks/validating-route-policies?pixel&useReferer)"
   ]
  },
  {
   "cell_type": "code",
   "execution_count": 1,
   "metadata": {},
   "outputs": [
    {
     "data": {
      "text/plain": [
       "'example_snapshot'"
      ]
     },
     "execution_count": 1,
     "metadata": {},
     "output_type": "execute_result"
    }
   ],
   "source": [
    "# Import packages and load questions\n",
    "%run startup.py\n",
    "load_questions()\n",
    "\n",
    "# Initialize a network and snapshot\n",
    "NETWORK_NAME = \"example_network\"\n",
    "SNAPSHOT_NAME = \"example_snapshot\"\n",
    "\n",
    "SNAPSHOT_PATH = \"networks/route-analysis\"\n",
    "\n",
    "bf_set_network(NETWORK_NAME)\n",
    "bf_init_snapshot(SNAPSHOT_PATH, name=SNAPSHOT_NAME, overwrite=True)"
   ]
  },
  {
   "cell_type": "markdown",
   "metadata": {},
   "source": [
    "The network has two border routers, named `border1` and `border2`, which each have a BGP session with a router of another AS.  Our goal in this notebook is to validate that the out-bound route policy for this session, called `to_outside`, is correctly configured.\n",
    "\n",
    "The intent of `to_outside` is as follows.  First, it should permit addresses that our network owns to be announced.  These are addresses in the range `1.2.3.[0-255]` and `1.2.4.[0-255]`.  Second, it should permit routes of our customers to be announced.  These are identified by announcements that have are tagged with a community that has AS number 40.  The policy should also set the MED for customer announcements to 50.  Finally, no other announcements should be allowed.\n",
    "\n",
    "Ok, let's get started!"
   ]
  },
  {
   "cell_type": "markdown",
   "metadata": {},
   "source": [
    "### Example 1: Announce Your Own Addresses\n"
   ]
  },
  {
   "cell_type": "markdown",
   "metadata": {},
   "source": [
    "First let's ensure that our border routers both allow all of our own addresses to be announced.  Traditionally you might try to validate this policy by running one or more test packets, and as a first attempt we can try something like that with `searchRoutePolicies`:"
   ]
  },
  {
   "cell_type": "code",
   "execution_count": 2,
   "metadata": {},
   "outputs": [
    {
     "data": {
      "text/html": [
       "<div>\n",
       "<style scoped>\n",
       "    .dataframe tbody tr th:only-of-type {\n",
       "        vertical-align: middle;\n",
       "    }\n",
       "\n",
       "    .dataframe tbody tr th {\n",
       "        vertical-align: top;\n",
       "    }\n",
       "\n",
       "    .dataframe thead th {\n",
       "        text-align: right;\n",
       "    }\n",
       "</style>\n",
       "<table border=\"1\" class=\"dataframe tex2jax_ignore\">\n",
       "  <thead>\n",
       "    <tr style=\"text-align: right;\">\n",
       "      <th></th>\n",
       "      <th>Node</th>\n",
       "      <th>Policy_Name</th>\n",
       "      <th>Input_Route</th>\n",
       "      <th>Action</th>\n",
       "      <th>Output_Route</th>\n",
       "    </tr>\n",
       "  </thead>\n",
       "  <tbody>\n",
       "    <tr>\n",
       "      <th>0</th>\n",
       "      <td>border1</td>\n",
       "      <td>to_outside</td>\n",
       "      <td>BgpRoute(network='1.2.3.4/32', originatorIp='0.0.0.0', originType='igp', protocol='bgp', asPath=[], communities=[], localPreference=0, metric=0, sourceProtocol=None)</td>\n",
       "      <td>PERMIT</td>\n",
       "      <td>BgpRoute(network='1.2.3.4/32', originatorIp='0.0.0.0', originType='igp', protocol='bgp', asPath=[], communities=[], localPreference=0, metric=0, sourceProtocol=None)</td>\n",
       "    </tr>\n",
       "    <tr>\n",
       "      <th>1</th>\n",
       "      <td>border2</td>\n",
       "      <td>to_outside</td>\n",
       "      <td>BgpRoute(network='1.2.3.4/32', originatorIp='0.0.0.0', originType='igp', protocol='bgp', asPath=[], communities=[], localPreference=0, metric=0, sourceProtocol=None)</td>\n",
       "      <td>PERMIT</td>\n",
       "      <td>BgpRoute(network='1.2.3.4/32', originatorIp='0.0.0.0', originType='igp', protocol='bgp', asPath=[], communities=[], localPreference=0, metric=0, sourceProtocol=None)</td>\n",
       "    </tr>\n",
       "  </tbody>\n",
       "</table>\n",
       "</div>"
      ],
      "text/plain": [
       "      Node Policy_Name  \\\n",
       "0  border1  to_outside   \n",
       "1  border2  to_outside   \n",
       "\n",
       "                                                                                                                                                             Input_Route  \\\n",
       "0  BgpRoute(network='1.2.3.4/32', originatorIp='0.0.0.0', originType='igp', protocol='bgp', asPath=[], communities=[], localPreference=0, metric=0, sourceProtocol=None)   \n",
       "1  BgpRoute(network='1.2.3.4/32', originatorIp='0.0.0.0', originType='igp', protocol='bgp', asPath=[], communities=[], localPreference=0, metric=0, sourceProtocol=None)   \n",
       "\n",
       "   Action  \\\n",
       "0  PERMIT   \n",
       "1  PERMIT   \n",
       "\n",
       "                                                                                                                                                            Output_Route  \n",
       "0  BgpRoute(network='1.2.3.4/32', originatorIp='0.0.0.0', originType='igp', protocol='bgp', asPath=[], communities=[], localPreference=0, metric=0, sourceProtocol=None)  \n",
       "1  BgpRoute(network='1.2.3.4/32', originatorIp='0.0.0.0', originType='igp', protocol='bgp', asPath=[], communities=[], localPreference=0, metric=0, sourceProtocol=None)  "
      ]
     },
     "execution_count": 2,
     "metadata": {},
     "output_type": "execute_result"
    }
   ],
   "source": [
    "# TODO: allow a single string as the prefix, instead of requiring a singleton list\n",
    "inRoute = BgpRouteConstraints(prefix=[\"1.2.3.4/32\"])\n",
    "bfq.searchRoutePolicies(policies=\"to_outside\", inputConstraints=inRoute).answer().frame()"
   ]
  },
  {
   "cell_type": "markdown",
   "metadata": {},
   "source": [
    "The first line of code above creates a `BgpRouteConstraints` object that represents requirements on the input announcement, in this case just that it announces the prefix 1.2.3.4/32.  The second line asks the `searchRoutePolicies` question to find an example of a route announcement meeting our constraints that is permitted by `to_outside`.  (In general the policies of interest can be specified as a regular expression, as can the set of nodes to consider.)\n",
    "\n",
    "The output of the question is an example behavior of the `to_outside` route policy for each border router.  It shows that a route announcement with the specified prefix, along with simple concrete values for other fields of the announcement, will be permitted by both route policies and output unchanged."
   ]
  },
  {
   "cell_type": "markdown",
   "metadata": {},
   "source": [
    "That's nice, but it is just a single example.  We'd like to know that *all* of the addresses that we own will be permitted by the route maps.  To do that, we will change our perspective a bit.  Instead of asking for a \"good\" example, which satisfies our intended policy, we will ask `searchRoutePolicies` to search for a \"bad\" example, which violates our policy.  If this results in one or more results, then our configuration is buggy.  If this results in no results, then we can be sure that our configuration satisfies the policy, for all possible route announcements."
   ]
  },
  {
   "cell_type": "code",
   "execution_count": 3,
   "metadata": {
    "scrolled": true
   },
   "outputs": [
    {
     "data": {
      "text/html": [
       "<div>\n",
       "<style scoped>\n",
       "    .dataframe tbody tr th:only-of-type {\n",
       "        vertical-align: middle;\n",
       "    }\n",
       "\n",
       "    .dataframe tbody tr th {\n",
       "        vertical-align: top;\n",
       "    }\n",
       "\n",
       "    .dataframe thead th {\n",
       "        text-align: right;\n",
       "    }\n",
       "</style>\n",
       "<table border=\"1\" class=\"dataframe tex2jax_ignore\">\n",
       "  <thead>\n",
       "    <tr style=\"text-align: right;\">\n",
       "      <th></th>\n",
       "      <th>Node</th>\n",
       "      <th>Policy_Name</th>\n",
       "      <th>Input_Route</th>\n",
       "      <th>Action</th>\n",
       "      <th>Output_Route</th>\n",
       "    </tr>\n",
       "  </thead>\n",
       "  <tbody>\n",
       "  </tbody>\n",
       "</table>\n",
       "</div>"
      ],
      "text/plain": [
       "Empty DataFrame\n",
       "Columns: [Node, Policy_Name, Input_Route, Action, Output_Route]\n",
       "Index: []"
      ]
     },
     "execution_count": 3,
     "metadata": {},
     "output_type": "execute_result"
    }
   ],
   "source": [
    "ownedSpace = [\"1.2.3.0/24:24-32\", \"1.2.4.0/24:24-32\"]\n",
    "inRoute = BgpRouteConstraints(prefix=ownedSpace)\n",
    "bfq.searchRoutePolicies(policies=\"to_outside\", inputConstraints=inRoute, action=\"deny\").answer().frame()"
   ]
  },
  {
   "cell_type": "markdown",
   "metadata": {},
   "source": [
    "The code above has two differences from our earlier version.  First, we specify a set of prefixes rather than a single one.  In this case, our input announcement can announce any prefix in the range 1.2.3.0/24:24-32 or 1.2.4.0/24:24-32.  Second, we ask for an example behavior of `to_outside` that *denies* the announcement via the `action` parameter (whose default value is `permit`).\n",
    "\n",
    "As a result, this call to `searchRoutePolicies` asks:  Is there  any announcement for a prefix in the range 1.2.3.0/24:24-32 or 1.2.4.0/24:24-32 that is denied by `to_outside`?  Since there are no results, this implies that no such announcement exists, and therefore that our policy holds, for both `border1` and `border2`.  Hurray!"
   ]
  },
  {
   "cell_type": "markdown",
   "metadata": {},
   "source": [
    "### Example 2: Announce Your Customer's Routes"
   ]
  },
  {
   "cell_type": "markdown",
   "metadata": {},
   "source": [
    "Next we will check that the `to_outside` route policies are properly announcing our customers' routes.  First we can use the same approach that we used above to search for a violation, which in this case is an announcement tagged with a community that has AS 40 but is denied:"
   ]
  },
  {
   "cell_type": "code",
   "execution_count": 4,
   "metadata": {
    "scrolled": true
   },
   "outputs": [
    {
     "data": {
      "text/html": [
       "<div>\n",
       "<style scoped>\n",
       "    .dataframe tbody tr th:only-of-type {\n",
       "        vertical-align: middle;\n",
       "    }\n",
       "\n",
       "    .dataframe tbody tr th {\n",
       "        vertical-align: top;\n",
       "    }\n",
       "\n",
       "    .dataframe thead th {\n",
       "        text-align: right;\n",
       "    }\n",
       "</style>\n",
       "<table border=\"1\" class=\"dataframe tex2jax_ignore\">\n",
       "  <thead>\n",
       "    <tr style=\"text-align: right;\">\n",
       "      <th></th>\n",
       "      <th>Node</th>\n",
       "      <th>Policy_Name</th>\n",
       "      <th>Input_Route</th>\n",
       "      <th>Action</th>\n",
       "      <th>Output_Route</th>\n",
       "    </tr>\n",
       "  </thead>\n",
       "  <tbody>\n",
       "  </tbody>\n",
       "</table>\n",
       "</div>"
      ],
      "text/plain": [
       "Empty DataFrame\n",
       "Columns: [Node, Policy_Name, Input_Route, Action, Output_Route]\n",
       "Index: []"
      ]
     },
     "execution_count": 4,
     "metadata": {},
     "output_type": "execute_result"
    }
   ],
   "source": [
    "customerCommunities = \"40:.*\"\n",
    "# TODO: allow a single string for a community regex, instead of requiring a singleton list\n",
    "inRoute = BgpRouteConstraints(communities=[customerCommunities])\n",
    "bfq.searchRoutePolicies(policies=\"to_outside\", inputConstraints=inRoute, action=\"deny\").answer().frame()"
   ]
  },
  {
   "cell_type": "markdown",
   "metadata": {},
   "source": [
    "There are no answers, so we can be sure that all of our customer routes are being permitted.  But we're not done yet!  We would also like to check that these customer announcements are properly transformed, in particular to have a MED value of 50.  To do that, we will impose constraints not only on the input route announcement to `to_outside`, as we have been doing so far, but also on the output route announcement that is produced when an announcement is permitted.  \n",
    "\n",
    "In this case, we will ask the following:  Is there a permitted customer route announcement whose output announcement does *not* have a MED value of 50?  Here's how it's done:"
   ]
  },
  {
   "cell_type": "code",
   "execution_count": 5,
   "metadata": {
    "scrolled": true
   },
   "outputs": [
    {
     "data": {
      "text/html": [
       "<div>\n",
       "<style scoped>\n",
       "    .dataframe tbody tr th:only-of-type {\n",
       "        vertical-align: middle;\n",
       "    }\n",
       "\n",
       "    .dataframe tbody tr th {\n",
       "        vertical-align: top;\n",
       "    }\n",
       "\n",
       "    .dataframe thead th {\n",
       "        text-align: right;\n",
       "    }\n",
       "</style>\n",
       "<table border=\"1\" class=\"dataframe tex2jax_ignore\">\n",
       "  <thead>\n",
       "    <tr style=\"text-align: right;\">\n",
       "      <th></th>\n",
       "      <th>Node</th>\n",
       "      <th>Policy_Name</th>\n",
       "      <th>Input_Route</th>\n",
       "      <th>Action</th>\n",
       "      <th>Output_Route</th>\n",
       "    </tr>\n",
       "  </thead>\n",
       "  <tbody>\n",
       "    <tr>\n",
       "      <th>0</th>\n",
       "      <td>border1</td>\n",
       "      <td>to_outside</td>\n",
       "      <td>BgpRoute(network='0.0.0.0/0', originatorIp='0.0.0.0', originType='igp', protocol='bgp', asPath=[], communities=['40:0'], localPreference=0, metric=0, sourceProtocol=None)</td>\n",
       "      <td>PERMIT</td>\n",
       "      <td>BgpRoute(network='0.0.0.0/0', originatorIp='0.0.0.0', originType='igp', protocol='bgp', asPath=[], communities=['40:0'], localPreference=0, metric=0, sourceProtocol=None)</td>\n",
       "    </tr>\n",
       "  </tbody>\n",
       "</table>\n",
       "</div>"
      ],
      "text/plain": [
       "      Node Policy_Name  \\\n",
       "0  border1  to_outside   \n",
       "\n",
       "                                                                                                                                                                  Input_Route  \\\n",
       "0  BgpRoute(network='0.0.0.0/0', originatorIp='0.0.0.0', originType='igp', protocol='bgp', asPath=[], communities=['40:0'], localPreference=0, metric=0, sourceProtocol=None)   \n",
       "\n",
       "   Action  \\\n",
       "0  PERMIT   \n",
       "\n",
       "                                                                                                                                                                 Output_Route  \n",
       "0  BgpRoute(network='0.0.0.0/0', originatorIp='0.0.0.0', originType='igp', protocol='bgp', asPath=[], communities=['40:0'], localPreference=0, metric=0, sourceProtocol=None)  "
      ]
     },
     "execution_count": 5,
     "metadata": {},
     "output_type": "execute_result"
    }
   ],
   "source": [
    "inRoute = BgpRouteConstraints(communities=[customerCommunities])\n",
    "# TODO: make integer spaces take a list instead of a single string, so it's uniform with other fields\n",
    "wrongMed = \"0-255, !50\"\n",
    "outRoute = BgpRouteConstraints(med=wrongMed)\n",
    "bfq.searchRoutePolicies(policies=\"to_outside\", inputConstraints=inRoute, outputConstraints=outRoute).answer().frame()"
   ]
  },
  {
   "cell_type": "markdown",
   "metadata": {},
   "source": [
    "The `wrongMed` variable above specifies the MED values of interest:  everything in the range 0-255 except for 50.  We then constrain output announcements to have a MED value in that set.  The output tells us two important things.  First, because there is no example for `border2`, its `to_outside` route policy satisfies our intent:  all customer announcements are output with a MED value of 50.  Second, the result for `border1` concretely illustrates that its version of the `to_outside` route policy violates our intent.  Inspecting the `to_outside` route policy for `border1` reveals the problem, namely that the clause pertaining to customer announcements accidentally omits the necessary `set metric` command."
   ]
  },
  {
   "cell_type": "markdown",
   "metadata": {},
   "source": [
    "### Example 3: Filter All Other Routes"
   ]
  },
  {
   "cell_type": "markdown",
   "metadata": {},
   "source": [
    "Finally, we want to make sure that our `to_outside` route policies don't announce any routes other than those that we own and those of our customers.  As you've figured out by now, the way to do that is to ask `searchRoutePolicies` to find a violation, which in this case is an accepted announcement that is neither for a prefix we own nor having the appropriate community tag for customers."
   ]
  },
  {
   "cell_type": "code",
   "execution_count": 6,
   "metadata": {},
   "outputs": [
    {
     "data": {
      "text/html": [
       "<div>\n",
       "<style scoped>\n",
       "    .dataframe tbody tr th:only-of-type {\n",
       "        vertical-align: middle;\n",
       "    }\n",
       "\n",
       "    .dataframe tbody tr th {\n",
       "        vertical-align: top;\n",
       "    }\n",
       "\n",
       "    .dataframe thead th {\n",
       "        text-align: right;\n",
       "    }\n",
       "</style>\n",
       "<table border=\"1\" class=\"dataframe tex2jax_ignore\">\n",
       "  <thead>\n",
       "    <tr style=\"text-align: right;\">\n",
       "      <th></th>\n",
       "      <th>Node</th>\n",
       "      <th>Policy_Name</th>\n",
       "      <th>Input_Route</th>\n",
       "      <th>Action</th>\n",
       "      <th>Output_Route</th>\n",
       "    </tr>\n",
       "  </thead>\n",
       "  <tbody>\n",
       "    <tr>\n",
       "      <th>0</th>\n",
       "      <td>border2</td>\n",
       "      <td>to_outside</td>\n",
       "      <td>BgpRoute(network='1.2.2.0/23', originatorIp='0.0.0.0', originType='igp', protocol='bgp', asPath=[], communities=[], localPreference=0, metric=0, sourceProtocol=None)</td>\n",
       "      <td>PERMIT</td>\n",
       "      <td>BgpRoute(network='1.2.2.0/23', originatorIp='0.0.0.0', originType='igp', protocol='bgp', asPath=[], communities=[], localPreference=0, metric=0, sourceProtocol=None)</td>\n",
       "    </tr>\n",
       "  </tbody>\n",
       "</table>\n",
       "</div>"
      ],
      "text/plain": [
       "      Node Policy_Name  \\\n",
       "0  border2  to_outside   \n",
       "\n",
       "                                                                                                                                                             Input_Route  \\\n",
       "0  BgpRoute(network='1.2.2.0/23', originatorIp='0.0.0.0', originType='igp', protocol='bgp', asPath=[], communities=[], localPreference=0, metric=0, sourceProtocol=None)   \n",
       "\n",
       "   Action  \\\n",
       "0  PERMIT   \n",
       "\n",
       "                                                                                                                                                            Output_Route  \n",
       "0  BgpRoute(network='1.2.2.0/23', originatorIp='0.0.0.0', originType='igp', protocol='bgp', asPath=[], communities=[], localPreference=0, metric=0, sourceProtocol=None)  "
      ]
     },
     "execution_count": 6,
     "metadata": {},
     "output_type": "execute_result"
    }
   ],
   "source": [
    "inRoute = BgpRouteConstraints(prefix=ownedSpace, complementPrefix=True,\n",
    "                              communities=[customerCommunities], complementCommunities=True)\n",
    "bfq.searchRoutePolicies(policies=\"to_outside\", inputConstraints=inRoute).answer().frame()"
   ]
  },
  {
   "cell_type": "markdown",
   "metadata": {},
   "source": [
    "Above we use two parameters to `searchRoutePolicies` that you haven't seen yet:  the `complementPrefix` flag indicates that we are interested in prefixes outside the set specified by the `prefix` parameter, and the `complementCommunities` flag does the same thing for the `communities` parameter.  There are no results for `border1`'s `to_outside` policy, so Batfish has proven that the policy does not announce any routes other than those that either we own or are announced by our customers.  However, Batfish reports a violation for `border2`:  its route policy permits announcements for the prefix 1.2.2.0/23 when no communities are present.  A look at the configuration for that router identifies the problem:  its prefix list named `our-networks` accidentally allows prefixes of 1.2.3.0 with lengths 23 and higher instead of 24 and higher."
   ]
  },
  {
   "cell_type": "markdown",
   "metadata": {},
   "source": [
    "### Summary"
   ]
  },
  {
   "cell_type": "markdown",
   "metadata": {},
   "source": [
    "\n",
    "Some summary text here!"
   ]
  },
  {
   "cell_type": "markdown",
   "metadata": {},
   "source": [
    "Want to learn more? Come find us on [Slack](https://join.slack.com/t/batfish-org/shared_invite/enQtMzA0Nzg2OTAzNzQ1LTUxOTJlY2YyNTVlNGQ3MTJkOTIwZT     U2YjY3YzRjZWFiYzE4ODE5ODZiNjA4NGI5NTJhZmU2ZTllOTMwZDhjMzA) and [GitHub](https://github.com/batfish/batfish)"
   ]
  }
 ],
 "metadata": {
  "hide_input": false,
  "kernelspec": {
   "display_name": "Python 3",
   "language": "python",
   "name": "python3"
  },
  "language_info": {
   "codemirror_mode": {
    "name": "ipython",
    "version": 3
   },
   "file_extension": ".py",
   "mimetype": "text/x-python",
   "name": "python",
   "nbconvert_exporter": "python",
   "pygments_lexer": "ipython3",
   "version": "3.7.3"
  }
 },
 "nbformat": 4,
 "nbformat_minor": 2
}
